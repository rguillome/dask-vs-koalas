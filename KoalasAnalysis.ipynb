{
 "metadata": {
  "language_info": {
   "codemirror_mode": {
    "name": "ipython",
    "version": 3
   },
   "file_extension": ".py",
   "mimetype": "text/x-python",
   "name": "python",
   "nbconvert_exporter": "python",
   "pygments_lexer": "ipython3",
   "version": "3.8.6-final"
  },
  "orig_nbformat": 2,
  "kernelspec": {
   "name": "python3",
   "display_name": "Python 3.8.6 64-bit ('koalas-dev-env': conda)",
   "metadata": {
    "interpreter": {
     "hash": "9ecc06dc2b48bbacbccd017da3393e6ed056efbf416ecc5235dd506bbaaec279"
    }
   }
  }
 },
 "nbformat": 4,
 "nbformat_minor": 2,
 "cells": [
  {
   "cell_type": "code",
   "execution_count": 1,
   "metadata": {},
   "outputs": [
    {
     "output_type": "stream",
     "name": "stderr",
     "text": [
      "WARNING:root:'PYARROW_IGNORE_TIMEZONE' environment variable was not set. It is required to set this environment variable to '1' in both driver and executor sides if you use pyarrow>=2.0.0. Koalas will set it for you but it does not work if there is a Spark context already launched.\n"
     ]
    }
   ],
   "source": [
    "import pandas as pd\n",
    "import numpy as np\n",
    "import databricks.koalas as ks\n",
    "from pyspark.sql import SparkSession\n",
    "from datetime import datetime"
   ]
  },
  {
   "cell_type": "code",
   "execution_count": 2,
   "metadata": {},
   "outputs": [
    {
     "output_type": "stream",
     "name": "stdout",
     "text": [
      "env: JAVA_HOME=/usr/lib/jvm/java-1.8.0-openjdk-amd64/\n"
     ]
    }
   ],
   "source": [
    "%set_env JAVA_HOME /usr/lib/jvm/java-1.8.0-openjdk-amd64/"
   ]
  },
  {
   "source": [
    "## YouGov - Wearing Mask in public"
   ],
   "cell_type": "markdown",
   "metadata": {}
  },
  {
   "cell_type": "code",
   "execution_count": 3,
   "metadata": {
    "tags": []
   },
   "outputs": [
    {
     "output_type": "stream",
     "name": "stdout",
     "text": [
      "Le dataset contient 192 enregistrements\n",
      "Sample dataset final:\n",
      "    DateTime    country  percent_wearing_mask\n",
      "0 2020-02-21  Australia                   0.0\n",
      "1 2020-02-21     Canada                   0.0\n",
      "2 2020-02-21      China                   0.0\n",
      "3 2020-02-21    Denmark                   0.0\n",
      "4 2020-02-21    Finland                   0.0\n",
      "Temps de chargement et tranformation petit dataset :  654.176 ms\n"
     ]
    }
   ],
   "source": [
    "start = datetime.now()\n",
    "\n",
    "\n",
    "##Chargement dataset\n",
    "df = ks.read_csv(\n",
    "    \"./data/wearing_face_mask_public.csv\",\n",
    "    sep=\";\"\n",
    ")\n",
    "\n",
    "##Transformation du dataset = 1 ligne par date/pays\n",
    "format = '%Y-%m-%d %H:%M:%S'\n",
    "df['DateTime'] = ks.to_datetime(df['DateTime'], format=format)\n",
    "df['DateTime'] = df['DateTime'].dt.normalize()\n",
    "\n",
    "\n",
    "#### 1er changement : autoriser les opérations sur 2 dataframes différents (ks.set_option('compute.ops_on_diff_frames', True) \n",
    "#### ou faire un groupby sur la colonne (comportement légèrement différent de pandas car la colonne de group_by devient un index et disparait de la projection)\n",
    "# df = df.sort_values('DateTime').groupby(df['DateTime']).max()\n",
    "df = df.sort_values('DateTime').groupby(['DateTime'], as_index=False).max()\n",
    "# df = df.set_index(pd.DatetimeIndex(df['DateTime'])).drop(['DateTime'], axis=1)\n",
    "df = df.set_index('DateTime')\n",
    "\n",
    "#### 2e changement : The method `pd.DataFrame.resample()` is not implemented yet. (en cours d'étude : https://github.com/databricks/koalas/issues/1562)\n",
    "#### on est obligé de partir sur Spark directement dans ce cas ou alors de passer par pandas ...\n",
    "df = df.to_pandas()\n",
    "wearing_mask_in_public_data = df.resample('1D').pad()\n",
    "\n",
    "#### Retours au dataframe Koalas\n",
    "wearing_mask_in_public_data = ks.from_pandas(wearing_mask_in_public_data)\n",
    "wearing_mask_in_public_data = wearing_mask_in_public_data.fillna(0)\n",
    "wearing_mask_in_public_data = wearing_mask_in_public_data.reset_index().melt(\n",
    "                                id_vars=['DateTime'], \n",
    "                                var_name='country', \n",
    "                                value_name='percent_wearing_mask')\n",
    "\n",
    "print(f\"Le dataset contient {len(df)} enregistrements\")\n",
    "\n",
    "print(\"Sample dataset final:\")\n",
    "##### 3e changement : Function sample currently does not support specifying exact number of items to return. Use frac instead.\n",
    "print(wearing_mask_in_public_data.head(5))\n",
    "\n",
    "stop = datetime.now()\n",
    "\n",
    "print(\"Temps de chargement et tranformation petit dataset : \", (stop-start).microseconds/1000, \"ms\")\n"
   ]
  },
  {
   "source": [
    "## Google - Covid 19 Open Data"
   ],
   "cell_type": "markdown",
   "metadata": {}
  },
  {
   "cell_type": "code",
   "execution_count": 4,
   "metadata": {
    "tags": []
   },
   "outputs": [
    {
     "output_type": "stream",
     "name": "stdout",
     "text": [
      "Le dataset contient 21505 enregistrements\n",
      "Sample dataset final:\n",
      "   date  country_name  new_confirmed  new_deceased  new_recovered  new_tested  total_confirmed  total_deceased  total_recovered  total_tested  new_hospitalized  total_hospitalized  current_hospitalized  new_intensive_care  total_intensive_care  current_intensive_care  new_ventilator  total_ventilator  current_ventilator  population  population_male  population_female  rural_population  urban_population  largest_city_population  clustered_population  population_density  human_development_index  population_age_00_09  population_age_10_19  population_age_20_29  population_age_30_39  population_age_40_49  population_age_50_59  population_age_60_69  population_age_70_79  population_age_80_89  population_age_90_99  population_age_80_and_older           gdp  gdp_per_capita  human_capital_index  open_street_maps   latitude   longitude  elevation       area  rural_area  urban_area  life_expectancy  smoking_prevalence  diabetes_prevalence  infant_mortality_rate  adult_male_mortality_rate  adult_female_mortality_rate  pollution_mortality_rate  comorbidity_mortality_rate  hospital_beds   nurses  physicians  health_expenditure  out_of_pocket_health_expenditure  mobility_retail_and_recreation  mobility_grocery_and_pharmacy  mobility_parks  mobility_transit_stations  mobility_workplaces  mobility_residential  school_closing  workplace_closing  cancel_public_events  restrictions_on_gatherings  public_transport_closing  stay_at_home_requirements  restrictions_on_internal_movement  international_travel_controls  income_support  debt_relief  fiscal_measures  international_support  public_information_campaigns  testing_policy  contact_tracing  emergency_investment_in_healthcare  investment_in_vaccines  stringency_index  noaa_station  noaa_distance  average_temperature  minimum_temperature  maximum_temperature   rainfall  snowfall  dew_point  relative_humidity  percent_wearing_mask\n",
      "0     0            52         4520.0          69.0            0.0     12596.0         159372.0          2367.0              0.0      837619.0               0.0                 0.0                   0.0                 0.0                   0.0                     0.0             0.0               0.0                 0.0   4076246.0        1972572.0          2103674.0         1739182.0         2328318.0                 685233.0                   0.0           73.200000                    0.831              387321.0              404914.0              479988.0              544058.0              542154.0              581554.0              560437.0              358187.0              182632.0               45658.0                     217633.0  6.091759e+10         14868.0                0.723          214885.0  45.250000   15.466667        0.0    56590.0     51019.0      5302.0           78.200                37.0                  5.4                    4.0                    117.544                       49.809                      35.5                        16.7            5.6   8.1224      2.9996          902.139648                         98.994057                           -61.0                          -18.0           -37.0                      -46.0                -34.0                   8.0             1.0                2.0                   1.0                         4.0                       0.0                        0.0                                0.0                            1.0             1.0          2.0              0.0                    0.0                           2.0             3.0              2.0                                 0.0                     0.0             41.67  1.432810e+10      18.392578             5.916667             2.655556             9.961111  16.637000    56.388   3.783951          85.160524                   0.0\n",
      "1     0            66           17.0           0.0            0.0         0.0           5183.0            85.0              0.0           0.0               0.0                 0.0                   0.0                 0.0                   0.0                     0.0             0.0               0.0                 0.0   1355986.0         753825.0           602161.0          371174.0          984812.0                 395403.0                   0.0           46.665740                    0.591              345902.0              244881.0              270752.0              231390.0              105901.0               58177.0               33977.0               15375.0                3754.0                 938.0                       4693.0  1.102677e+10          8131.0                0.000          192791.0   1.500000   10.000000        0.0    28050.0     26800.0        97.0           58.402                 0.0                  6.0                   62.6                    334.453                      294.556                     177.7                        22.0            0.0   0.5024      0.4017          301.150055                        231.259186                             0.0                            0.0             0.0                        0.0                  0.0                   0.0             0.0                0.0                   0.0                         0.0                       0.0                        0.0                                0.0                            0.0             0.0          0.0              0.0                    0.0                           0.0             0.0              0.0                                 0.0                     0.0              0.00  6.482010e+10      49.739095            25.868056            23.152778            29.562500   5.181600     0.000  23.736111          88.146357                   0.0\n",
      "2     0           145            5.0           0.0            0.0         0.0            898.0             0.0              0.0           0.0               0.0                 0.0                   0.0                 0.0                   0.0                     0.0             0.0               0.0                 0.0   3225167.0        1589932.0          1635235.0         1014541.0         2210626.0                1552654.0             1552654.0            2.040609                    0.741              632674.0              485359.0              504534.0              567967.0              427869.0              314233.0              152520.0               58911.0               15971.0                3992.0                      19964.0  1.385285e+10          4295.0                0.626          161033.0  47.000000  104.000000        0.0  1564120.0         0.0         0.0           69.689                25.6                  4.7                   14.0                    288.357                      123.173                     155.9                        30.2            0.0   3.8938      2.8592          148.784454                         47.837875                           -48.0                            2.0           -42.0                      -33.0                -36.0                  17.0             3.0                3.0                   2.0                         4.0                       1.0                        2.0                                2.0                            4.0             1.0          2.0              0.0                    0.0                           2.0             2.0              2.0                                 0.0                     0.0             85.19  4.428610e+10      15.613971           -23.450000           -28.677778           -14.738889   0.000000    44.450 -29.311111          59.951805                   0.0\n",
      "3     0           135           79.0           3.0            0.0      2909.0          10778.0           160.0              0.0      453185.0               0.0                 0.0                   0.0                 0.0                   0.0                     0.0             0.0               0.0                 0.0    493559.0         251836.0           241723.0           26751.0          475902.0                      0.0                   0.0         1548.300000                    0.839               46307.0               43517.0               75568.0               81203.0               65167.0               58962.0               59304.0               42685.0               17252.0                4313.0                      20846.0  1.460697e+10         30090.0                0.701          365307.0  35.883333   14.500000        0.0      320.0        30.0       293.0           82.500                25.5                  8.3                    6.1                     63.699                       35.056                      20.2                        10.8            0.0   9.4833      2.8598         2585.563965                        898.581482                           -23.0                           -6.0           -43.0                      -29.0                 -7.0                   8.0             0.0                0.0                   0.0                         0.0                       0.0                        0.0                                0.0                            0.0             0.0          0.0              0.0                    0.0                           0.0             0.0              0.0                                 0.0                     0.0              0.00  1.659710e+10       3.537128            12.983333             9.677778            16.433333   2.596444     0.000   7.722222          71.411358                   0.0\n",
      "4     0            20            3.0           4.0            0.0     45004.0         600261.0         17603.0              0.0     6188646.0             200.0             44375.0                2939.0                 0.0                   0.0                   657.0             0.0               0.0               412.0  11455519.0        5644826.0          5810693.0          224973.0        11259082.0                2065284.0             3102595.0          375.300000                    0.890             1282761.0             1288307.0             1416867.0             1488564.0             1508902.0             1594256.0             1326035.0              902858.0              529212.0              132303.0                     646969.0  5.425874e+11         47436.0                0.757           52411.0  50.641111    4.668056        0.0    30530.0     18091.0     12349.0           81.700                28.2                  4.6                    2.9                     80.262                       49.245                      15.7                        11.4            0.0  19.4614      3.0709         4507.356445                        795.017578                           -52.0                          -11.0             2.0                      -37.0                -15.0                   8.0             1.0                2.0                   2.0                         4.0                       0.0                        2.0                                0.0                            3.0             2.0          2.0              0.0                    0.0                           2.0             2.0              2.0                                 0.0                     0.0             60.19  6.459100e+09       6.549176             1.344444            -0.316667             3.572222   0.050800    10.160   0.405556          93.501791                   0.0\n",
      "Temps de chargement et tranformation grand dataset :  170.188 ms\n"
     ]
    }
   ],
   "source": [
    "start = datetime.now()\n",
    "\n",
    "#Chargement dataset\n",
    "covid19_opendata = ks.read_csv(\n",
    "    \"./data/latest.csv\",\n",
    "    keep_default_na=False,\n",
    "    na_values=[\"\"])\n",
    "\n",
    "\n",
    "# Jointure entre open data covid 19 et yougo\n",
    "format = '%Y-%m-%d %H:%M:%S'\n",
    "##### 4e changement : la transformation de datetime en date ne se fait pas directement\n",
    "covid19_opendata['date'] = ks.to_datetime(covid19_opendata['date'], format=format)\n",
    "covid19_opendata['date'] = covid19_opendata['date'].dt.normalize()\n",
    "\n",
    "\n",
    "covid19_merge1 = covid19_opendata.merge(wearing_mask_in_public_data, \n",
    "                                      left_on = ['country_name','date'],\n",
    "                                      right_on = ['country','DateTime'], how = 'left')\n",
    "\n",
    "\n",
    "remove_cols = ['key', 'country','aggregation_level','locality_code', 'wikidata', 'datacommons', 'country_code', 'subregion1_code', 'subregion1_name', 'subregion2_code', 'subregion2_name', 'locality_name', '3166-1-alpha-2', '3166-1-alpha-3', 'DateTime']\n",
    "\n",
    "covid19_merge1 = covid19_merge1.drop(remove_cols, axis=1)\n",
    "\n",
    "prepared_data =  covid19_merge1.copy()\n",
    "\n",
    "#### 5e changement, Les fonctions de préprocessing de scikit learn ne sont pas accessibles avec les dataframes Koalas \n",
    "#### Si on repasse en dataframe pandas, tout est remonté au driver donc on va plutôt utiliser get_dummies\n",
    "prepared_data = ks.get_dummies(prepared_data, ['country_name', 'date'])\n",
    "\n",
    "prepared_data = prepared_data.fillna(0)\n",
    "\n",
    "print(f\"Le dataset contient {len(prepared_data)} enregistrements\")\n",
    "\n",
    "print(\"Sample dataset final:\")\n",
    "print(prepared_data.head(5))\n",
    "\n",
    "stop = datetime.now()\n",
    "\n",
    "print(\"Temps de chargement et tranformation grand dataset : \", (stop-start).microseconds/1000, \"ms\")\n",
    "\n"
   ]
  },
  {
   "source": [
    "## Entrainement et inférence"
   ],
   "cell_type": "markdown",
   "metadata": {}
  },
  {
   "cell_type": "code",
   "execution_count": 5,
   "metadata": {},
   "outputs": [
    {
     "output_type": "stream",
     "name": "stdout",
     "text": [
      "Iteration 1, loss = 1972657.14203192\n",
      "Iteration 2, loss = 1971911.05644309\n",
      "Iteration 3, loss = 1962543.06857397\n",
      "Iteration 4, loss = 1896294.60472285\n",
      "Iteration 5, loss = 1782673.71609958\n",
      "Iteration 6, loss = 1676519.86651913\n",
      "Iteration 7, loss = 1603786.99658003\n",
      "Iteration 8, loss = 1551900.85074224\n",
      "Iteration 9, loss = 1463254.81699981\n",
      "Iteration 10, loss = 1377386.36486305\n",
      "Temps préparation et inférence (ML) :  24.672 ms\n"
     ]
    }
   ],
   "source": [
    "start = datetime.now()\n",
    "\n",
    "##### 6e changement : Pour utiliser scikit learn avec koalas, il faut utiliser Mlflow\n",
    "##### Mais l'entrainement restera sur des dataframe pandas, seule la prédiction peut être faite avec koalas\n",
    "prepared_data = prepared_data.to_pandas()\n",
    "\n",
    "#### On prépare donc l'environnement\n",
    "from mlflow.tracking import MlflowClient, set_tracking_uri\n",
    "import mlflow.sklearn\n",
    "\n",
    "from tempfile import mkdtemp\n",
    "d = mkdtemp(\"koalas_mlflow\")\n",
    "set_tracking_uri(\"file:%s\"%d)\n",
    "client = MlflowClient()\n",
    "exp = mlflow.create_experiment(\"my_experiment\")\n",
    "mlflow.set_experiment(\"my_experiment\")\n",
    "\n",
    "# Split Train/Test\n",
    "from sklearn.model_selection import train_test_split\n",
    "X = prepared_data.loc[:, prepared_data.columns != 'new_confirmed']\n",
    "y = prepared_data['new_confirmed'].ravel()\n",
    "\n",
    "X_train, X_test, y_train, y_test = train_test_split(X, y, test_size=0.33)\n",
    "\n",
    "\n",
    "# Scale des valeurs\n",
    "from sklearn.preprocessing import StandardScaler\n",
    "scaler = StandardScaler()\n",
    "scaler.fit(X_train)\n",
    "X_train = scaler.transform(X_train)\n",
    "X_test = scaler.transform(X_test)\n",
    "\n",
    "# Entraintement MLP\n",
    "from sklearn.neural_network import MLPRegressor\n",
    "\n",
    "with mlflow.start_run():\n",
    "    regr = MLPRegressor(max_iter=10, hidden_layer_sizes=(100, 50, 25, 10, 5), verbose=True)\n",
    "   \n",
    "    regr.fit(X_train, y_train)\n",
    "\n",
    "    mlflow.sklearn.log_model(regr, \"model\")\n",
    "\n",
    "\n",
    "#### Notre modèle est entrainé, on peut donc l'utiliser sur des datafames Koalas\n",
    "from databricks.koalas.mlflow import load_model\n",
    "run_info = client.list_run_infos(exp)[-1]\n",
    "\n",
    "model = load_model(\"runs:/{run_id}/model\".format(run_id=run_info.run_uuid))\n",
    "\n",
    "# Prédiction et Score\n",
    "df = ks.DataFrame(X_test)\n",
    "df[\"prediction\"] = model.predict(df)\n",
    "\n",
    "stop = datetime.now()\n",
    "\n",
    "print(\"Temps préparation et inférence (ML) : \", (stop-start).microseconds/1000, \"ms\")"
   ]
  },
  {
   "cell_type": "code",
   "execution_count": 6,
   "metadata": {},
   "outputs": [
    {
     "output_type": "stream",
     "name": "stderr",
     "text": [
      "/home/rguillome/.local/lib/python3.8/site-packages/ipykernel/ipkernel.py:283: DeprecationWarning: `should_run_async` will not call `transform_cell` automatically in the future. Please pass the result to `transformed_cell` argument and any exception that happen during thetransform in `preprocessing_exc_tuple` in IPython 7.17 and above.\n",
      "  and should_run_async(code)\n",
      "score: -0.8649982812600598\n"
     ]
    }
   ],
   "source": [
    "##### 7e changement : Il faut donc recalculer le score nous même\n",
    "\n",
    "from databricks.koalas.config import set_option, reset_option\n",
    "\n",
    "set_option(\"compute.ops_on_diff_frames\", True)\n",
    "\n",
    "# Score : The coefficient R^2 is defined as (1 - u/v), where u is the residual sum of squares ((y_true - y_pred) ** 2).sum() and v is the total sum of squares ((y_true - y_true.mean()) ** 2).sum()\n",
    "\n",
    "reel = ks.Series(y_test).to_frame().rename(columns = {0:'Reel'})\n",
    "result = ks.concat([df,reel],axis=1)\n",
    "\n",
    "result['square_diff_true_pred'] = (result['Reel'] - result['prediction']) ** 2\n",
    "u = result['square_diff_true_pred'].sum()\n",
    "v = ((result['Reel'] - result['Reel'].mean()) ** 2).sum()\n",
    "\n",
    "score = (1 - u/v)\n",
    "print(f\"score: {score}\")"
   ]
  },
  {
   "source": [
    "## Entrainement et inférence avec Pipeline"
   ],
   "cell_type": "markdown",
   "metadata": {}
  },
  {
   "source": [
    "Seuls les modèles entrainés et les prédictions peuvent être utilisés avec koalas"
   ],
   "cell_type": "markdown",
   "metadata": {}
  }
 ]
}